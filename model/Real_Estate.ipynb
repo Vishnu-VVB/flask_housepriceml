{
 "cells": [
  {
   "cell_type": "code",
   "execution_count": 1,
   "id": "77296602",
   "metadata": {},
   "outputs": [],
   "source": [
    "import pandas as pd\n",
    "import numpy as np\n",
    "import matplotlib.pyplot as plt\n",
    "import seaborn as sns\n",
    "import plotly.express as px\n",
    "%matplotlib inline"
   ]
  },
  {
   "cell_type": "code",
   "execution_count": 2,
   "id": "b0ea83db",
   "metadata": {},
   "outputs": [],
   "source": [
    "df = pd.read_csv('realtor-data.csv')"
   ]
  },
  {
   "cell_type": "code",
   "execution_count": 3,
   "id": "c0583676",
   "metadata": {},
   "outputs": [
    {
     "data": {
      "text/html": [
       "<div>\n",
       "<style scoped>\n",
       "    .dataframe tbody tr th:only-of-type {\n",
       "        vertical-align: middle;\n",
       "    }\n",
       "\n",
       "    .dataframe tbody tr th {\n",
       "        vertical-align: top;\n",
       "    }\n",
       "\n",
       "    .dataframe thead th {\n",
       "        text-align: right;\n",
       "    }\n",
       "</style>\n",
       "<table border=\"1\" class=\"dataframe\">\n",
       "  <thead>\n",
       "    <tr style=\"text-align: right;\">\n",
       "      <th></th>\n",
       "      <th>status</th>\n",
       "      <th>price</th>\n",
       "      <th>bed</th>\n",
       "      <th>bath</th>\n",
       "      <th>acre_lot</th>\n",
       "      <th>full_address</th>\n",
       "      <th>street</th>\n",
       "      <th>city</th>\n",
       "      <th>state</th>\n",
       "      <th>zip_code</th>\n",
       "      <th>house_size</th>\n",
       "      <th>sold_date</th>\n",
       "    </tr>\n",
       "  </thead>\n",
       "  <tbody>\n",
       "    <tr>\n",
       "      <th>0</th>\n",
       "      <td>for_sale</td>\n",
       "      <td>105000.0</td>\n",
       "      <td>3.0</td>\n",
       "      <td>2.0</td>\n",
       "      <td>0.12</td>\n",
       "      <td>Sector Yahuecas Titulo # V84, Adjuntas, PR, 00601</td>\n",
       "      <td>Sector Yahuecas Titulo # V84</td>\n",
       "      <td>Adjuntas</td>\n",
       "      <td>Puerto Rico</td>\n",
       "      <td>601.0</td>\n",
       "      <td>920.0</td>\n",
       "      <td>NaN</td>\n",
       "    </tr>\n",
       "    <tr>\n",
       "      <th>1</th>\n",
       "      <td>for_sale</td>\n",
       "      <td>80000.0</td>\n",
       "      <td>4.0</td>\n",
       "      <td>2.0</td>\n",
       "      <td>0.08</td>\n",
       "      <td>Km 78 9 Carr # 135, Adjuntas, PR, 00601</td>\n",
       "      <td>Km 78 9 Carr # 135</td>\n",
       "      <td>Adjuntas</td>\n",
       "      <td>Puerto Rico</td>\n",
       "      <td>601.0</td>\n",
       "      <td>1527.0</td>\n",
       "      <td>NaN</td>\n",
       "    </tr>\n",
       "    <tr>\n",
       "      <th>2</th>\n",
       "      <td>for_sale</td>\n",
       "      <td>67000.0</td>\n",
       "      <td>2.0</td>\n",
       "      <td>1.0</td>\n",
       "      <td>0.15</td>\n",
       "      <td>556G 556-G 16 St, Juana Diaz, PR, 00795</td>\n",
       "      <td>556G 556-G 16 St</td>\n",
       "      <td>Juana Diaz</td>\n",
       "      <td>Puerto Rico</td>\n",
       "      <td>795.0</td>\n",
       "      <td>748.0</td>\n",
       "      <td>NaN</td>\n",
       "    </tr>\n",
       "    <tr>\n",
       "      <th>3</th>\n",
       "      <td>for_sale</td>\n",
       "      <td>145000.0</td>\n",
       "      <td>4.0</td>\n",
       "      <td>2.0</td>\n",
       "      <td>0.10</td>\n",
       "      <td>R5 Comunidad El Paraso Calle De Oro R-5 Ponce,...</td>\n",
       "      <td>R5 Comunidad El Paraso Calle De Oro R-5 Ponce</td>\n",
       "      <td>Ponce</td>\n",
       "      <td>Puerto Rico</td>\n",
       "      <td>731.0</td>\n",
       "      <td>1800.0</td>\n",
       "      <td>NaN</td>\n",
       "    </tr>\n",
       "    <tr>\n",
       "      <th>4</th>\n",
       "      <td>for_sale</td>\n",
       "      <td>65000.0</td>\n",
       "      <td>6.0</td>\n",
       "      <td>2.0</td>\n",
       "      <td>0.05</td>\n",
       "      <td>14 Navarro, Mayaguez, PR, 00680</td>\n",
       "      <td>14 Navarro</td>\n",
       "      <td>Mayaguez</td>\n",
       "      <td>Puerto Rico</td>\n",
       "      <td>680.0</td>\n",
       "      <td>NaN</td>\n",
       "      <td>NaN</td>\n",
       "    </tr>\n",
       "  </tbody>\n",
       "</table>\n",
       "</div>"
      ],
      "text/plain": [
       "     status     price  bed  bath  acre_lot  \\\n",
       "0  for_sale  105000.0  3.0   2.0      0.12   \n",
       "1  for_sale   80000.0  4.0   2.0      0.08   \n",
       "2  for_sale   67000.0  2.0   1.0      0.15   \n",
       "3  for_sale  145000.0  4.0   2.0      0.10   \n",
       "4  for_sale   65000.0  6.0   2.0      0.05   \n",
       "\n",
       "                                        full_address  \\\n",
       "0  Sector Yahuecas Titulo # V84, Adjuntas, PR, 00601   \n",
       "1            Km 78 9 Carr # 135, Adjuntas, PR, 00601   \n",
       "2            556G 556-G 16 St, Juana Diaz, PR, 00795   \n",
       "3  R5 Comunidad El Paraso Calle De Oro R-5 Ponce,...   \n",
       "4                    14 Navarro, Mayaguez, PR, 00680   \n",
       "\n",
       "                                          street        city        state  \\\n",
       "0                   Sector Yahuecas Titulo # V84    Adjuntas  Puerto Rico   \n",
       "1                             Km 78 9 Carr # 135    Adjuntas  Puerto Rico   \n",
       "2                               556G 556-G 16 St  Juana Diaz  Puerto Rico   \n",
       "3  R5 Comunidad El Paraso Calle De Oro R-5 Ponce       Ponce  Puerto Rico   \n",
       "4                                     14 Navarro    Mayaguez  Puerto Rico   \n",
       "\n",
       "   zip_code  house_size sold_date  \n",
       "0     601.0       920.0       NaN  \n",
       "1     601.0      1527.0       NaN  \n",
       "2     795.0       748.0       NaN  \n",
       "3     731.0      1800.0       NaN  \n",
       "4     680.0         NaN       NaN  "
      ]
     },
     "execution_count": 3,
     "metadata": {},
     "output_type": "execute_result"
    }
   ],
   "source": [
    "df.head()"
   ]
  },
  {
   "cell_type": "code",
   "execution_count": 4,
   "id": "0399e750",
   "metadata": {},
   "outputs": [
    {
     "name": "stdout",
     "output_type": "stream",
     "text": [
      "<class 'pandas.core.frame.DataFrame'>\n",
      "RangeIndex: 923159 entries, 0 to 923158\n",
      "Data columns (total 12 columns):\n",
      " #   Column        Non-Null Count   Dtype  \n",
      "---  ------        --------------   -----  \n",
      " 0   status        923159 non-null  object \n",
      " 1   price         923088 non-null  float64\n",
      " 2   bed           791456 non-null  float64\n",
      " 3   bath          807967 non-null  float64\n",
      " 4   acre_lot      649536 non-null  float64\n",
      " 5   full_address  923159 non-null  object \n",
      " 6   street        921021 non-null  object \n",
      " 7   city          923085 non-null  object \n",
      " 8   state         923159 non-null  object \n",
      " 9   zip_code      922954 non-null  float64\n",
      " 10  house_size    625316 non-null  float64\n",
      " 11  sold_date     456396 non-null  object \n",
      "dtypes: float64(6), object(6)\n",
      "memory usage: 84.5+ MB\n"
     ]
    }
   ],
   "source": [
    "df.info()"
   ]
  },
  {
   "cell_type": "code",
   "execution_count": 5,
   "id": "41c65d44",
   "metadata": {},
   "outputs": [
    {
     "data": {
      "text/plain": [
       "Index(['status', 'price', 'bed', 'bath', 'acre_lot', 'full_address', 'street',\n",
       "       'city', 'state', 'zip_code', 'house_size', 'sold_date'],\n",
       "      dtype='object')"
      ]
     },
     "execution_count": 5,
     "metadata": {},
     "output_type": "execute_result"
    }
   ],
   "source": [
    "df.columns"
   ]
  },
  {
   "cell_type": "code",
   "execution_count": 6,
   "id": "1cd5f0fa",
   "metadata": {},
   "outputs": [],
   "source": [
    "df['bed'] = df['bed'].fillna(df['bed'].mean())\n"
   ]
  },
  {
   "cell_type": "code",
   "execution_count": 7,
   "id": "196fa286",
   "metadata": {},
   "outputs": [],
   "source": [
    "df['bath'] = df['bath'].fillna(df['bath'].mean())"
   ]
  },
  {
   "cell_type": "code",
   "execution_count": 8,
   "id": "bd532da4",
   "metadata": {},
   "outputs": [],
   "source": [
    "df['acre_lot'] = df['acre_lot'].fillna(df['acre_lot'].mean())"
   ]
  },
  {
   "cell_type": "code",
   "execution_count": 9,
   "id": "63e5ca67",
   "metadata": {},
   "outputs": [],
   "source": [
    "df['house_size'] = df['house_size'].fillna(df['house_size'].mean())"
   ]
  },
  {
   "cell_type": "code",
   "execution_count": 10,
   "id": "97cf2158",
   "metadata": {},
   "outputs": [],
   "source": [
    "df = df.drop('sold_date', axis=1)"
   ]
  },
  {
   "cell_type": "code",
   "execution_count": 11,
   "id": "fff50d5d",
   "metadata": {},
   "outputs": [],
   "source": [
    "df.dropna(inplace=True)"
   ]
  },
  {
   "cell_type": "code",
   "execution_count": 12,
   "id": "e37b9788",
   "metadata": {},
   "outputs": [
    {
     "data": {
      "text/plain": [
       "<AxesSubplot:>"
      ]
     },
     "execution_count": 12,
     "metadata": {},
     "output_type": "execute_result"
    },
    {
     "data": {
      "image/png": "[encoded data removed]",
      "text/plain": [
       "<Figure size 864x432 with 1 Axes>"
      ]
     },
     "metadata": {
      "needs_background": "light"
     },
     "output_type": "display_data"
    }
   ],
   "source": [
    "plt.figure(figsize=(12,6))\n",
    "sns.heatmap(df.isnull(), yticklabels=False, cbar=False)"
   ]
  },
  {
   "cell_type": "code",
   "execution_count": 13,
   "id": "53f6bca0",
   "metadata": {},
   "outputs": [
    {
     "data": {
      "text/plain": [
       "for_sale          919165\n",
       "ready_to_build      1560\n",
       "Name: status, dtype: int64"
      ]
     },
     "execution_count": 13,
     "metadata": {},
     "output_type": "execute_result"
    }
   ],
   "source": [
    "df['status'].value_counts()"
   ]
  },
  {
   "cell_type": "code",
   "execution_count": 14,
   "id": "1ec39fa8",
   "metadata": {},
   "outputs": [],
   "source": [
    "df = df.drop('street', axis=1)"
   ]
  },
  {
   "cell_type": "code",
   "execution_count": 15,
   "id": "b67a4727",
   "metadata": {},
   "outputs": [],
   "source": [
    "df['city'] =df['city'].apply(lambda x : x.strip())"
   ]
  },
  {
   "cell_type": "code",
   "execution_count": 16,
   "id": "1f0b0563",
   "metadata": {},
   "outputs": [
    {
     "data": {
      "text/plain": [
       "city\n",
       "New York City                 47517\n",
       "New York                      47358\n",
       "Boston                        31502\n",
       "Brooklyn                      23151\n",
       "Bronx                         11574\n",
       "                              ...  \n",
       "Carversville                      1\n",
       "Mattituck                         1\n",
       "Old Brookville                    1\n",
       "Fletchers Landing Township        1\n",
       "Nassau Village                    1\n",
       "Name: city, Length: 2540, dtype: int64"
      ]
     },
     "execution_count": 16,
     "metadata": {},
     "output_type": "execute_result"
    }
   ],
   "source": [
    "others = df.groupby('city')['city'].agg('count').sort_values(ascending=False)  \n",
    "others"
   ]
  },
  {
   "cell_type": "code",
   "execution_count": 17,
   "id": "60d5df14",
   "metadata": {},
   "outputs": [
    {
     "data": {
      "text/plain": [
       "city\n",
       "Bolton                        499\n",
       "Brookfield                    499\n",
       "Newtown                       497\n",
       "North Smithfield              496\n",
       "Carteret                      495\n",
       "                             ... \n",
       "Carversville                    1\n",
       "Mattituck                       1\n",
       "Old Brookville                  1\n",
       "Fletchers Landing Township      1\n",
       "Nassau Village                  1\n",
       "Name: city, Length: 2121, dtype: int64"
      ]
     },
     "execution_count": 17,
     "metadata": {},
     "output_type": "execute_result"
    }
   ],
   "source": [
    "others = others[others<500]   # as many cities are counted below 500, just making those city names as others rather than droping them\n",
    "others"
   ]
  },
  {
   "cell_type": "code",
   "execution_count": 18,
   "id": "0d45a186",
   "metadata": {},
   "outputs": [],
   "source": [
    "df['city'] = df['city'].apply(lambda x : 'Other' if x in others else x)"
   ]
  },
  {
   "cell_type": "code",
   "execution_count": 19,
   "id": "1d560272",
   "metadata": {},
   "outputs": [
    {
     "data": {
      "text/plain": [
       "420"
      ]
     },
     "execution_count": 19,
     "metadata": {},
     "output_type": "execute_result"
    }
   ],
   "source": [
    "df['city'].nunique()"
   ]
  },
  {
   "cell_type": "code",
   "execution_count": 20,
   "id": "d1fba8a0",
   "metadata": {},
   "outputs": [],
   "source": [
    "df=df.drop(['full_address','zip_code'], axis=1)"
   ]
  },
  {
   "cell_type": "code",
   "execution_count": 21,
   "id": "a022db71",
   "metadata": {},
   "outputs": [
    {
     "data": {
      "text/html": [
       "<div>\n",
       "<style scoped>\n",
       "    .dataframe tbody tr th:only-of-type {\n",
       "        vertical-align: middle;\n",
       "    }\n",
       "\n",
       "    .dataframe tbody tr th {\n",
       "        vertical-align: top;\n",
       "    }\n",
       "\n",
       "    .dataframe thead th {\n",
       "        text-align: right;\n",
       "    }\n",
       "</style>\n",
       "<table border=\"1\" class=\"dataframe\">\n",
       "  <thead>\n",
       "    <tr style=\"text-align: right;\">\n",
       "      <th></th>\n",
       "      <th>status</th>\n",
       "      <th>price</th>\n",
       "      <th>bed</th>\n",
       "      <th>bath</th>\n",
       "      <th>acre_lot</th>\n",
       "      <th>city</th>\n",
       "      <th>state</th>\n",
       "      <th>house_size</th>\n",
       "    </tr>\n",
       "  </thead>\n",
       "  <tbody>\n",
       "    <tr>\n",
       "      <th>0</th>\n",
       "      <td>for_sale</td>\n",
       "      <td>105000.0</td>\n",
       "      <td>3.000000</td>\n",
       "      <td>2.000000</td>\n",
       "      <td>0.12</td>\n",
       "      <td>Other</td>\n",
       "      <td>Puerto Rico</td>\n",
       "      <td>920.000000</td>\n",
       "    </tr>\n",
       "    <tr>\n",
       "      <th>1</th>\n",
       "      <td>for_sale</td>\n",
       "      <td>80000.0</td>\n",
       "      <td>4.000000</td>\n",
       "      <td>2.000000</td>\n",
       "      <td>0.08</td>\n",
       "      <td>Other</td>\n",
       "      <td>Puerto Rico</td>\n",
       "      <td>1527.000000</td>\n",
       "    </tr>\n",
       "    <tr>\n",
       "      <th>2</th>\n",
       "      <td>for_sale</td>\n",
       "      <td>67000.0</td>\n",
       "      <td>2.000000</td>\n",
       "      <td>1.000000</td>\n",
       "      <td>0.15</td>\n",
       "      <td>Other</td>\n",
       "      <td>Puerto Rico</td>\n",
       "      <td>748.000000</td>\n",
       "    </tr>\n",
       "    <tr>\n",
       "      <th>3</th>\n",
       "      <td>for_sale</td>\n",
       "      <td>145000.0</td>\n",
       "      <td>4.000000</td>\n",
       "      <td>2.000000</td>\n",
       "      <td>0.10</td>\n",
       "      <td>Ponce</td>\n",
       "      <td>Puerto Rico</td>\n",
       "      <td>1800.000000</td>\n",
       "    </tr>\n",
       "    <tr>\n",
       "      <th>4</th>\n",
       "      <td>for_sale</td>\n",
       "      <td>65000.0</td>\n",
       "      <td>6.000000</td>\n",
       "      <td>2.000000</td>\n",
       "      <td>0.05</td>\n",
       "      <td>Other</td>\n",
       "      <td>Puerto Rico</td>\n",
       "      <td>2141.644071</td>\n",
       "    </tr>\n",
       "    <tr>\n",
       "      <th>...</th>\n",
       "      <td>...</td>\n",
       "      <td>...</td>\n",
       "      <td>...</td>\n",
       "      <td>...</td>\n",
       "      <td>...</td>\n",
       "      <td>...</td>\n",
       "      <td>...</td>\n",
       "      <td>...</td>\n",
       "    </tr>\n",
       "    <tr>\n",
       "      <th>923154</th>\n",
       "      <td>for_sale</td>\n",
       "      <td>445000.0</td>\n",
       "      <td>1.000000</td>\n",
       "      <td>2.000000</td>\n",
       "      <td>0.99</td>\n",
       "      <td>Other</td>\n",
       "      <td>New York</td>\n",
       "      <td>1052.000000</td>\n",
       "    </tr>\n",
       "    <tr>\n",
       "      <th>923155</th>\n",
       "      <td>for_sale</td>\n",
       "      <td>418000.0</td>\n",
       "      <td>4.000000</td>\n",
       "      <td>2.000000</td>\n",
       "      <td>0.40</td>\n",
       "      <td>Monroe</td>\n",
       "      <td>New York</td>\n",
       "      <td>1650.000000</td>\n",
       "    </tr>\n",
       "    <tr>\n",
       "      <th>923156</th>\n",
       "      <td>for_sale</td>\n",
       "      <td>469000.0</td>\n",
       "      <td>4.000000</td>\n",
       "      <td>2.000000</td>\n",
       "      <td>0.18</td>\n",
       "      <td>Other</td>\n",
       "      <td>New York</td>\n",
       "      <td>2123.000000</td>\n",
       "    </tr>\n",
       "    <tr>\n",
       "      <th>923157</th>\n",
       "      <td>for_sale</td>\n",
       "      <td>825000.0</td>\n",
       "      <td>5.000000</td>\n",
       "      <td>5.000000</td>\n",
       "      <td>0.79</td>\n",
       "      <td>Other</td>\n",
       "      <td>New York</td>\n",
       "      <td>3775.000000</td>\n",
       "    </tr>\n",
       "    <tr>\n",
       "      <th>923158</th>\n",
       "      <td>for_sale</td>\n",
       "      <td>88000.0</td>\n",
       "      <td>3.330352</td>\n",
       "      <td>2.488164</td>\n",
       "      <td>35.00</td>\n",
       "      <td>Other</td>\n",
       "      <td>New York</td>\n",
       "      <td>780.000000</td>\n",
       "    </tr>\n",
       "  </tbody>\n",
       "</table>\n",
       "<p>920725 rows × 8 columns</p>\n",
       "</div>"
      ],
      "text/plain": [
       "          status     price       bed      bath  acre_lot    city        state  \\\n",
       "0       for_sale  105000.0  3.000000  2.000000      0.12   Other  Puerto Rico   \n",
       "1       for_sale   80000.0  4.000000  2.000000      0.08   Other  Puerto Rico   \n",
       "2       for_sale   67000.0  2.000000  1.000000      0.15   Other  Puerto Rico   \n",
       "3       for_sale  145000.0  4.000000  2.000000      0.10   Ponce  Puerto Rico   \n",
       "4       for_sale   65000.0  6.000000  2.000000      0.05   Other  Puerto Rico   \n",
       "...          ...       ...       ...       ...       ...     ...          ...   \n",
       "923154  for_sale  445000.0  1.000000  2.000000      0.99   Other     New York   \n",
       "923155  for_sale  418000.0  4.000000  2.000000      0.40  Monroe     New York   \n",
       "923156  for_sale  469000.0  4.000000  2.000000      0.18   Other     New York   \n",
       "923157  for_sale  825000.0  5.000000  5.000000      0.79   Other     New York   \n",
       "923158  for_sale   88000.0  3.330352  2.488164     35.00   Other     New York   \n",
       "\n",
       "         house_size  \n",
       "0        920.000000  \n",
       "1       1527.000000  \n",
       "2        748.000000  \n",
       "3       1800.000000  \n",
       "4       2141.644071  \n",
       "...             ...  \n",
       "923154  1052.000000  \n",
       "923155  1650.000000  \n",
       "923156  2123.000000  \n",
       "923157  3775.000000  \n",
       "923158   780.000000  \n",
       "\n",
       "[920725 rows x 8 columns]"
      ]
     },
     "execution_count": 21,
     "metadata": {},
     "output_type": "execute_result"
    }
   ],
   "source": [
    "df"
   ]
  },
  {
   "cell_type": "code",
   "execution_count": 22,
   "id": "6bddbc87",
   "metadata": {},
   "outputs": [],
   "source": [
    "cols = ['price', 'bed', 'bath', 'acre_lot', 'house_size']\n",
    "\n",
    "\n",
    "# As there are many ouliers for each i in cols, can refer from df.describe(). removing the outliers using IQR.\n",
    "\n",
    "for i in cols:\n",
    "    q1=df[i].quantile(.25)\n",
    "    q3=df[i].quantile(.75)\n",
    "    iqr = q3-q1\n",
    "    lower = q1-(1.5*iqr)\n",
    "    upper = q3+(1.5*iqr)\n",
    "    min_value = df[df[i]<lower].index\n",
    "    max_value = df[df[i]>lower].index\n",
    "\n",
    "    if len(min_value)==0:\n",
    "        pass\n",
    "    else:\n",
    "        min_value = df[df[i]<lower].index\n",
    "        df.drop(min_value, inplace=True)\n",
    "        \n",
    "    if len(max_value)==0:\n",
    "        pass\n",
    "    else:\n",
    "        max_value = df[df[i]>upper].index\n",
    "        df.drop(max_value, inplace=True)\n"
   ]
  },
  {
   "cell_type": "code",
   "execution_count": 23,
   "id": "783f4596",
   "metadata": {
    "scrolled": true
   },
   "outputs": [
    {
     "data": {
      "text/html": [
       "<div>\n",
       "<style scoped>\n",
       "    .dataframe tbody tr th:only-of-type {\n",
       "        vertical-align: middle;\n",
       "    }\n",
       "\n",
       "    .dataframe tbody tr th {\n",
       "        vertical-align: top;\n",
       "    }\n",
       "\n",
       "    .dataframe thead th {\n",
       "        text-align: right;\n",
       "    }\n",
       "</style>\n",
       "<table border=\"1\" class=\"dataframe\">\n",
       "  <thead>\n",
       "    <tr style=\"text-align: right;\">\n",
       "      <th></th>\n",
       "      <th>price</th>\n",
       "      <th>bed</th>\n",
       "      <th>bath</th>\n",
       "      <th>acre_lot</th>\n",
       "      <th>house_size</th>\n",
       "    </tr>\n",
       "  </thead>\n",
       "  <tbody>\n",
       "    <tr>\n",
       "      <th>count</th>\n",
       "      <td>7.559380e+05</td>\n",
       "      <td>755938.000000</td>\n",
       "      <td>755938.000000</td>\n",
       "      <td>755938.000000</td>\n",
       "      <td>755938.000000</td>\n",
       "    </tr>\n",
       "    <tr>\n",
       "      <th>mean</th>\n",
       "      <td>4.829300e+05</td>\n",
       "      <td>2.980214</td>\n",
       "      <td>2.110539</td>\n",
       "      <td>6.242718</td>\n",
       "      <td>1773.142050</td>\n",
       "    </tr>\n",
       "    <tr>\n",
       "      <th>std</th>\n",
       "      <td>3.372694e+05</td>\n",
       "      <td>1.157266</td>\n",
       "      <td>0.834120</td>\n",
       "      <td>7.979974</td>\n",
       "      <td>626.438895</td>\n",
       "    </tr>\n",
       "    <tr>\n",
       "      <th>min</th>\n",
       "      <td>0.000000e+00</td>\n",
       "      <td>1.000000</td>\n",
       "      <td>1.000000</td>\n",
       "      <td>0.000000</td>\n",
       "      <td>100.000000</td>\n",
       "    </tr>\n",
       "    <tr>\n",
       "      <th>25%</th>\n",
       "      <td>2.390000e+05</td>\n",
       "      <td>2.000000</td>\n",
       "      <td>1.000000</td>\n",
       "      <td>0.170000</td>\n",
       "      <td>1248.000000</td>\n",
       "    </tr>\n",
       "    <tr>\n",
       "      <th>50%</th>\n",
       "      <td>3.999790e+05</td>\n",
       "      <td>3.000000</td>\n",
       "      <td>2.000000</td>\n",
       "      <td>0.820000</td>\n",
       "      <td>2069.000000</td>\n",
       "    </tr>\n",
       "    <tr>\n",
       "      <th>75%</th>\n",
       "      <td>6.500000e+05</td>\n",
       "      <td>3.330352</td>\n",
       "      <td>3.000000</td>\n",
       "      <td>17.075888</td>\n",
       "      <td>2141.644071</td>\n",
       "    </tr>\n",
       "    <tr>\n",
       "      <th>max</th>\n",
       "      <td>1.690000e+06</td>\n",
       "      <td>7.000000</td>\n",
       "      <td>4.000000</td>\n",
       "      <td>42.410000</td>\n",
       "      <td>3459.000000</td>\n",
       "    </tr>\n",
       "  </tbody>\n",
       "</table>\n",
       "</div>"
      ],
      "text/plain": [
       "              price            bed           bath       acre_lot  \\\n",
       "count  7.559380e+05  755938.000000  755938.000000  755938.000000   \n",
       "mean   4.829300e+05       2.980214       2.110539       6.242718   \n",
       "std    3.372694e+05       1.157266       0.834120       7.979974   \n",
       "min    0.000000e+00       1.000000       1.000000       0.000000   \n",
       "25%    2.390000e+05       2.000000       1.000000       0.170000   \n",
       "50%    3.999790e+05       3.000000       2.000000       0.820000   \n",
       "75%    6.500000e+05       3.330352       3.000000      17.075888   \n",
       "max    1.690000e+06       7.000000       4.000000      42.410000   \n",
       "\n",
       "          house_size  \n",
       "count  755938.000000  \n",
       "mean     1773.142050  \n",
       "std       626.438895  \n",
       "min       100.000000  \n",
       "25%      1248.000000  \n",
       "50%      2069.000000  \n",
       "75%      2141.644071  \n",
       "max      3459.000000  "
      ]
     },
     "execution_count": 23,
     "metadata": {},
     "output_type": "execute_result"
    }
   ],
   "source": [
    "df.describe()"
   ]
  },
  {
   "cell_type": "code",
   "execution_count": 24,
   "id": "f2115819",
   "metadata": {},
   "outputs": [
    {
     "data": {
      "text/html": [
       "<div>\n",
       "<style scoped>\n",
       "    .dataframe tbody tr th:only-of-type {\n",
       "        vertical-align: middle;\n",
       "    }\n",
       "\n",
       "    .dataframe tbody tr th {\n",
       "        vertical-align: top;\n",
       "    }\n",
       "\n",
       "    .dataframe thead th {\n",
       "        text-align: right;\n",
       "    }\n",
       "</style>\n",
       "<table border=\"1\" class=\"dataframe\">\n",
       "  <thead>\n",
       "    <tr style=\"text-align: right;\">\n",
       "      <th></th>\n",
       "      <th>price</th>\n",
       "      <th>bed</th>\n",
       "      <th>bath</th>\n",
       "      <th>acre_lot</th>\n",
       "      <th>house_size</th>\n",
       "    </tr>\n",
       "  </thead>\n",
       "  <tbody>\n",
       "    <tr>\n",
       "      <th>count</th>\n",
       "      <td>7.559380e+05</td>\n",
       "      <td>755938.000000</td>\n",
       "      <td>755938.000000</td>\n",
       "      <td>755938.000000</td>\n",
       "      <td>755938.000000</td>\n",
       "    </tr>\n",
       "    <tr>\n",
       "      <th>mean</th>\n",
       "      <td>4.829300e+05</td>\n",
       "      <td>2.980214</td>\n",
       "      <td>2.110539</td>\n",
       "      <td>6.242718</td>\n",
       "      <td>1773.142050</td>\n",
       "    </tr>\n",
       "    <tr>\n",
       "      <th>std</th>\n",
       "      <td>3.372694e+05</td>\n",
       "      <td>1.157266</td>\n",
       "      <td>0.834120</td>\n",
       "      <td>7.979974</td>\n",
       "      <td>626.438895</td>\n",
       "    </tr>\n",
       "    <tr>\n",
       "      <th>min</th>\n",
       "      <td>0.000000e+00</td>\n",
       "      <td>1.000000</td>\n",
       "      <td>1.000000</td>\n",
       "      <td>0.000000</td>\n",
       "      <td>100.000000</td>\n",
       "    </tr>\n",
       "    <tr>\n",
       "      <th>25%</th>\n",
       "      <td>2.390000e+05</td>\n",
       "      <td>2.000000</td>\n",
       "      <td>1.000000</td>\n",
       "      <td>0.170000</td>\n",
       "      <td>1248.000000</td>\n",
       "    </tr>\n",
       "    <tr>\n",
       "      <th>50%</th>\n",
       "      <td>3.999790e+05</td>\n",
       "      <td>3.000000</td>\n",
       "      <td>2.000000</td>\n",
       "      <td>0.820000</td>\n",
       "      <td>2069.000000</td>\n",
       "    </tr>\n",
       "    <tr>\n",
       "      <th>75%</th>\n",
       "      <td>6.500000e+05</td>\n",
       "      <td>3.330352</td>\n",
       "      <td>3.000000</td>\n",
       "      <td>17.075888</td>\n",
       "      <td>2141.644071</td>\n",
       "    </tr>\n",
       "    <tr>\n",
       "      <th>max</th>\n",
       "      <td>1.690000e+06</td>\n",
       "      <td>7.000000</td>\n",
       "      <td>4.000000</td>\n",
       "      <td>42.410000</td>\n",
       "      <td>3459.000000</td>\n",
       "    </tr>\n",
       "  </tbody>\n",
       "</table>\n",
       "</div>"
      ],
      "text/plain": [
       "              price            bed           bath       acre_lot  \\\n",
       "count  7.559380e+05  755938.000000  755938.000000  755938.000000   \n",
       "mean   4.829300e+05       2.980214       2.110539       6.242718   \n",
       "std    3.372694e+05       1.157266       0.834120       7.979974   \n",
       "min    0.000000e+00       1.000000       1.000000       0.000000   \n",
       "25%    2.390000e+05       2.000000       1.000000       0.170000   \n",
       "50%    3.999790e+05       3.000000       2.000000       0.820000   \n",
       "75%    6.500000e+05       3.330352       3.000000      17.075888   \n",
       "max    1.690000e+06       7.000000       4.000000      42.410000   \n",
       "\n",
       "          house_size  \n",
       "count  755938.000000  \n",
       "mean     1773.142050  \n",
       "std       626.438895  \n",
       "min       100.000000  \n",
       "25%      1248.000000  \n",
       "50%      2069.000000  \n",
       "75%      2141.644071  \n",
       "max      3459.000000  "
      ]
     },
     "execution_count": 24,
     "metadata": {},
     "output_type": "execute_result"
    }
   ],
   "source": [
    "df.describe()"
   ]
  },
  {
   "cell_type": "code",
   "execution_count": 25,
   "id": "b665e1c9",
   "metadata": {},
   "outputs": [],
   "source": [
    "# Here I found that from df['price'] we have very low prices which are almost very low cost for a house. I considered\n",
    "# thos prices as outliers and removed prices which are below 21000."
   ]
  },
  {
   "cell_type": "code",
   "execution_count": 26,
   "id": "2df46029",
   "metadata": {
    "scrolled": true
   },
   "outputs": [],
   "source": [
    "df = df[df['price'] > 21000]"
   ]
  },
  {
   "cell_type": "code",
   "execution_count": 27,
   "id": "6431493d",
   "metadata": {},
   "outputs": [
    {
     "data": {
      "text/html": [
       "<div>\n",
       "<style scoped>\n",
       "    .dataframe tbody tr th:only-of-type {\n",
       "        vertical-align: middle;\n",
       "    }\n",
       "\n",
       "    .dataframe tbody tr th {\n",
       "        vertical-align: top;\n",
       "    }\n",
       "\n",
       "    .dataframe thead th {\n",
       "        text-align: right;\n",
       "    }\n",
       "</style>\n",
       "<table border=\"1\" class=\"dataframe\">\n",
       "  <thead>\n",
       "    <tr style=\"text-align: right;\">\n",
       "      <th></th>\n",
       "      <th>status</th>\n",
       "      <th>price</th>\n",
       "      <th>bed</th>\n",
       "      <th>bath</th>\n",
       "      <th>acre_lot</th>\n",
       "      <th>city</th>\n",
       "      <th>state</th>\n",
       "      <th>house_size</th>\n",
       "    </tr>\n",
       "  </thead>\n",
       "  <tbody>\n",
       "    <tr>\n",
       "      <th>0</th>\n",
       "      <td>for_sale</td>\n",
       "      <td>105000.0</td>\n",
       "      <td>3.000000</td>\n",
       "      <td>2.000000</td>\n",
       "      <td>0.12</td>\n",
       "      <td>Other</td>\n",
       "      <td>Puerto Rico</td>\n",
       "      <td>920.000000</td>\n",
       "    </tr>\n",
       "    <tr>\n",
       "      <th>1</th>\n",
       "      <td>for_sale</td>\n",
       "      <td>80000.0</td>\n",
       "      <td>4.000000</td>\n",
       "      <td>2.000000</td>\n",
       "      <td>0.08</td>\n",
       "      <td>Other</td>\n",
       "      <td>Puerto Rico</td>\n",
       "      <td>1527.000000</td>\n",
       "    </tr>\n",
       "    <tr>\n",
       "      <th>2</th>\n",
       "      <td>for_sale</td>\n",
       "      <td>67000.0</td>\n",
       "      <td>2.000000</td>\n",
       "      <td>1.000000</td>\n",
       "      <td>0.15</td>\n",
       "      <td>Other</td>\n",
       "      <td>Puerto Rico</td>\n",
       "      <td>748.000000</td>\n",
       "    </tr>\n",
       "    <tr>\n",
       "      <th>3</th>\n",
       "      <td>for_sale</td>\n",
       "      <td>145000.0</td>\n",
       "      <td>4.000000</td>\n",
       "      <td>2.000000</td>\n",
       "      <td>0.10</td>\n",
       "      <td>Ponce</td>\n",
       "      <td>Puerto Rico</td>\n",
       "      <td>1800.000000</td>\n",
       "    </tr>\n",
       "    <tr>\n",
       "      <th>4</th>\n",
       "      <td>for_sale</td>\n",
       "      <td>65000.0</td>\n",
       "      <td>6.000000</td>\n",
       "      <td>2.000000</td>\n",
       "      <td>0.05</td>\n",
       "      <td>Other</td>\n",
       "      <td>Puerto Rico</td>\n",
       "      <td>2141.644071</td>\n",
       "    </tr>\n",
       "    <tr>\n",
       "      <th>...</th>\n",
       "      <td>...</td>\n",
       "      <td>...</td>\n",
       "      <td>...</td>\n",
       "      <td>...</td>\n",
       "      <td>...</td>\n",
       "      <td>...</td>\n",
       "      <td>...</td>\n",
       "      <td>...</td>\n",
       "    </tr>\n",
       "    <tr>\n",
       "      <th>923152</th>\n",
       "      <td>for_sale</td>\n",
       "      <td>589999.0</td>\n",
       "      <td>4.000000</td>\n",
       "      <td>3.000000</td>\n",
       "      <td>1.10</td>\n",
       "      <td>Other</td>\n",
       "      <td>New York</td>\n",
       "      <td>2214.000000</td>\n",
       "    </tr>\n",
       "    <tr>\n",
       "      <th>923154</th>\n",
       "      <td>for_sale</td>\n",
       "      <td>445000.0</td>\n",
       "      <td>1.000000</td>\n",
       "      <td>2.000000</td>\n",
       "      <td>0.99</td>\n",
       "      <td>Other</td>\n",
       "      <td>New York</td>\n",
       "      <td>1052.000000</td>\n",
       "    </tr>\n",
       "    <tr>\n",
       "      <th>923155</th>\n",
       "      <td>for_sale</td>\n",
       "      <td>418000.0</td>\n",
       "      <td>4.000000</td>\n",
       "      <td>2.000000</td>\n",
       "      <td>0.40</td>\n",
       "      <td>Monroe</td>\n",
       "      <td>New York</td>\n",
       "      <td>1650.000000</td>\n",
       "    </tr>\n",
       "    <tr>\n",
       "      <th>923156</th>\n",
       "      <td>for_sale</td>\n",
       "      <td>469000.0</td>\n",
       "      <td>4.000000</td>\n",
       "      <td>2.000000</td>\n",
       "      <td>0.18</td>\n",
       "      <td>Other</td>\n",
       "      <td>New York</td>\n",
       "      <td>2123.000000</td>\n",
       "    </tr>\n",
       "    <tr>\n",
       "      <th>923158</th>\n",
       "      <td>for_sale</td>\n",
       "      <td>88000.0</td>\n",
       "      <td>3.330352</td>\n",
       "      <td>2.488164</td>\n",
       "      <td>35.00</td>\n",
       "      <td>Other</td>\n",
       "      <td>New York</td>\n",
       "      <td>780.000000</td>\n",
       "    </tr>\n",
       "  </tbody>\n",
       "</table>\n",
       "<p>751472 rows × 8 columns</p>\n",
       "</div>"
      ],
      "text/plain": [
       "          status     price       bed      bath  acre_lot    city        state  \\\n",
       "0       for_sale  105000.0  3.000000  2.000000      0.12   Other  Puerto Rico   \n",
       "1       for_sale   80000.0  4.000000  2.000000      0.08   Other  Puerto Rico   \n",
       "2       for_sale   67000.0  2.000000  1.000000      0.15   Other  Puerto Rico   \n",
       "3       for_sale  145000.0  4.000000  2.000000      0.10   Ponce  Puerto Rico   \n",
       "4       for_sale   65000.0  6.000000  2.000000      0.05   Other  Puerto Rico   \n",
       "...          ...       ...       ...       ...       ...     ...          ...   \n",
       "923152  for_sale  589999.0  4.000000  3.000000      1.10   Other     New York   \n",
       "923154  for_sale  445000.0  1.000000  2.000000      0.99   Other     New York   \n",
       "923155  for_sale  418000.0  4.000000  2.000000      0.40  Monroe     New York   \n",
       "923156  for_sale  469000.0  4.000000  2.000000      0.18   Other     New York   \n",
       "923158  for_sale   88000.0  3.330352  2.488164     35.00   Other     New York   \n",
       "\n",
       "         house_size  \n",
       "0        920.000000  \n",
       "1       1527.000000  \n",
       "2        748.000000  \n",
       "3       1800.000000  \n",
       "4       2141.644071  \n",
       "...             ...  \n",
       "923152  2214.000000  \n",
       "923154  1052.000000  \n",
       "923155  1650.000000  \n",
       "923156  2123.000000  \n",
       "923158   780.000000  \n",
       "\n",
       "[751472 rows x 8 columns]"
      ]
     },
     "execution_count": 27,
     "metadata": {},
     "output_type": "execute_result"
    }
   ],
   "source": [
    "df"
   ]
  },
  {
   "cell_type": "code",
   "execution_count": 28,
   "id": "759100ac",
   "metadata": {},
   "outputs": [
    {
     "data": {
      "text/plain": [
       "array(['Puerto Rico', 'Virgin Islands', 'Massachusetts', 'Connecticut',\n",
       "       'New Hampshire', 'New Jersey', 'Vermont', 'New York', 'Tennessee',\n",
       "       'Rhode Island', 'Virginia', 'Wyoming', 'Maine', 'Georgia',\n",
       "       'West Virginia', 'Pennsylvania', 'Delaware'], dtype=object)"
      ]
     },
     "execution_count": 28,
     "metadata": {},
     "output_type": "execute_result"
    }
   ],
   "source": [
    "df['state'].unique()"
   ]
  },
  {
   "cell_type": "code",
   "execution_count": 29,
   "id": "19a3f4ac",
   "metadata": {},
   "outputs": [],
   "source": [
    "dummies = pd.get_dummies(df[['status', 'state']], drop_first=True)\n",
    "df = df.drop(['status', 'city', 'state'], axis=1)"
   ]
  },
  {
   "cell_type": "code",
   "execution_count": 30,
   "id": "003de4a9",
   "metadata": {},
   "outputs": [],
   "source": [
    "df = pd.concat((df, dummies), axis=1)"
   ]
  },
  {
   "cell_type": "code",
   "execution_count": 31,
   "id": "b5c21d9a",
   "metadata": {},
   "outputs": [],
   "source": [
    "X = df.drop('price', axis=1)\n",
    "y = df['price']"
   ]
  },
  {
   "cell_type": "code",
   "execution_count": 32,
   "id": "9baff21b",
   "metadata": {},
   "outputs": [
    {
     "data": {
      "text/plain": [
       "Index(['bed', 'bath', 'acre_lot', 'house_size', 'status_ready_to_build',\n",
       "       'state_Delaware', 'state_Georgia', 'state_Maine', 'state_Massachusetts',\n",
       "       'state_New Hampshire', 'state_New Jersey', 'state_New York',\n",
       "       'state_Pennsylvania', 'state_Puerto Rico', 'state_Rhode Island',\n",
       "       'state_Tennessee', 'state_Vermont', 'state_Virgin Islands',\n",
       "       'state_Virginia', 'state_West Virginia', 'state_Wyoming'],\n",
       "      dtype='object')"
      ]
     },
     "execution_count": 32,
     "metadata": {},
     "output_type": "execute_result"
    }
   ],
   "source": [
    "X.columns"
   ]
  },
  {
   "cell_type": "code",
   "execution_count": 33,
   "id": "df85ffa3",
   "metadata": {},
   "outputs": [],
   "source": [
    "from sklearn.preprocessing import StandardScaler"
   ]
  },
  {
   "cell_type": "code",
   "execution_count": 34,
   "id": "7618a62b",
   "metadata": {},
   "outputs": [],
   "source": [
    "scaler = StandardScaler()"
   ]
  },
  {
   "cell_type": "code",
   "execution_count": 35,
   "id": "e24c709c",
   "metadata": {},
   "outputs": [],
   "source": [
    "from sklearn.model_selection import train_test_split"
   ]
  },
  {
   "cell_type": "code",
   "execution_count": 36,
   "id": "b85e1a16",
   "metadata": {},
   "outputs": [],
   "source": [
    "X_train, X_test, y_train, y_test = train_test_split(X, y, test_size=0.25, random_state=42)"
   ]
  },
  {
   "cell_type": "code",
   "execution_count": 37,
   "id": "6b710283",
   "metadata": {},
   "outputs": [],
   "source": [
    "from sklearn.tree import DecisionTreeRegressor"
   ]
  },
  {
   "cell_type": "code",
   "execution_count": 38,
   "id": "2e668f11",
   "metadata": {},
   "outputs": [],
   "source": [
    "tree = DecisionTreeRegressor()"
   ]
  },
  {
   "cell_type": "code",
   "execution_count": 39,
   "id": "b30dc933",
   "metadata": {},
   "outputs": [],
   "source": [
    "X_train = scaler.fit_transform(X_train)\n",
    "X_test = scaler.transform(X_test)"
   ]
  },
  {
   "cell_type": "code",
   "execution_count": 40,
   "id": "ed4c0403",
   "metadata": {},
   "outputs": [
    {
     "data": {
      "text/plain": [
       "DecisionTreeRegressor()"
      ]
     },
     "execution_count": 40,
     "metadata": {},
     "output_type": "execute_result"
    }
   ],
   "source": [
    "tree.fit(X_train, y_train)"
   ]
  },
  {
   "cell_type": "code",
   "execution_count": 41,
   "id": "17788dea",
   "metadata": {},
   "outputs": [],
   "source": [
    "pred = tree.predict(X_test)"
   ]
  },
  {
   "cell_type": "code",
   "execution_count": 42,
   "id": "f9299d16",
   "metadata": {},
   "outputs": [],
   "source": [
    "from sklearn.metrics import r2_score, mean_absolute_error, mean_squared_error"
   ]
  },
  {
   "cell_type": "code",
   "execution_count": 43,
   "id": "a383288e",
   "metadata": {},
   "outputs": [
    {
     "name": "stdout",
     "output_type": "stream",
     "text": [
      "0.8091712425183106\n",
      "65079.27055985889\n",
      "147490.14856713748\n"
     ]
    }
   ],
   "source": [
    "print(r2_score(y_test, pred))\n",
    "print(mean_absolute_error(y_test, pred))\n",
    "print(np.sqrt(mean_squared_error(y_test, pred)))"
   ]
  },
  {
   "cell_type": "code",
   "execution_count": 48,
   "id": "7ec07433",
   "metadata": {},
   "outputs": [
    {
     "data": {
      "text/plain": [
       "21"
      ]
     },
     "execution_count": 48,
     "metadata": {},
     "output_type": "execute_result"
    }
   ],
   "source": [
    "len(X.columns)"
   ]
  },
  {
   "cell_type": "code",
   "execution_count": 50,
   "id": "e73ed23b",
   "metadata": {},
   "outputs": [],
   "source": [
    "col = X.columns"
   ]
  },
  {
   "cell_type": "code",
   "execution_count": 55,
   "id": "96454b17",
   "metadata": {},
   "outputs": [],
   "source": [
    "col =['bed', 'bath', 'acre_lot', 'house_size', 'status_ready_to_build',\n",
    "       'state_Delaware', 'state_Georgia', 'state_Maine', 'state_Massachusetts',\n",
    "       'state_New Hampshire', 'state_New Jersey', 'state_New York',\n",
    "       'state_Pennsylvania', 'state_Puerto Rico', 'state_Rhode Island',\n",
    "       'state_Tennessee', 'state_Vermont', 'state_Virgin Islands',\n",
    "       'state_Virginia', 'state_West Virginia', 'state_Wyoming']"
   ]
  },
  {
   "cell_type": "code",
   "execution_count": 45,
   "id": "ba71948b",
   "metadata": {},
   "outputs": [],
   "source": [
    "import pickle"
   ]
  },
  {
   "cell_type": "code",
   "execution_count": 46,
   "id": "c9a72954",
   "metadata": {},
   "outputs": [],
   "source": [
    "with open('real_estate.pickle', 'wb') as f:\n",
    "    pickle.dump(tree, f)"
   ]
  },
  {
   "cell_type": "code",
   "execution_count": 47,
   "id": "bdd24ca2",
   "metadata": {},
   "outputs": [],
   "source": [
    "import json\n",
    "columns ={'data_columns' : [col.lower() for col in X.columns]}\n",
    "with open('columns.json', 'w') as f:\n",
    "    f.write(json.dumps(columns))"
   ]
  },
  {
   "cell_type": "code",
   "execution_count": 56,
   "id": "dbc096c5",
   "metadata": {},
   "outputs": [
    {
     "data": {
      "text/plain": [
       "10"
      ]
     },
     "execution_count": 56,
     "metadata": {},
     "output_type": "execute_result"
    }
   ],
   "source": [
    "col.index('state_New Jersey')"
   ]
  },
  {
   "cell_type": "code",
   "execution_count": null,
   "id": "6fac4220",
   "metadata": {},
   "outputs": [],
   "source": []
  }
 ],
 "metadata": {
  "kernelspec": {
   "display_name": "Python 3 (ipykernel)",
   "language": "python",
   "name": "python3"
  },
  "language_info": {
   "codemirror_mode": {
    "name": "ipython",
    "version": 3
   },
   "file_extension": ".py",
   "mimetype": "text/x-python",
   "name": "python",
   "nbconvert_exporter": "python",
   "pygments_lexer": "ipython3",
   "version": "3.9.12"
  }
 },
 "nbformat": 4,
 "nbformat_minor": 5
}
